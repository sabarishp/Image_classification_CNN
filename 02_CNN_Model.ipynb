{
 "cells": [
  {
   "cell_type": "code",
   "execution_count": 1,
   "metadata": {},
   "outputs": [],
   "source": [
    "\n",
    "import pandas as pd\n",
    "import glob\n",
    "from PIL import Image\n",
    "import numpy as np\n",
    "\n",
    "from tensorflow.contrib.keras import models\n",
    "from tensorflow.contrib.keras import layers\n",
    "from tensorflow.contrib.keras import utils\n",
    "#from tensorflow.contrib.keras.layers.normalization import BatchNormalization\n",
    "#from tensorflow.contrib.keras.python.keras.layers.normalization import BatchNormalization\n",
    "\n",
    "import matplotlib.pyplot as plt\n",
    "%matplotlib inline"
   ]
  },
  {
   "cell_type": "markdown",
   "metadata": {},
   "source": [
    "### Read Training data and Training labels & Resizing into 64*64 size"
   ]
  },
  {
   "cell_type": "code",
   "execution_count": 2,
   "metadata": {},
   "outputs": [
    {
     "name": "stderr",
     "output_type": "stream",
     "text": [
      "C:\\Users\\sabarish\\Anaconda3\\envs\\tensorflow\\lib\\site-packages\\ipykernel_launcher.py:14: FutureWarning: get_value is deprecated and will be removed in a future release. Please use .at[] or .iat[] accessors instead\n",
      "  \n"
     ]
    },
    {
     "name": "stdout",
     "output_type": "stream",
     "text": [
      "training image data shape (37882, 64, 64)\n",
      "training data label shape (37882, 1)\n"
     ]
    }
   ],
   "source": [
    "#set training data and training labels\n",
    "trd_list=[]\n",
    "trl_list=[]\n",
    "\n",
    "trlbl=pd.read_csv('train.txt',index_col=0,delimiter=' ',header=None)\n",
    "trlbl.columns=['label']\n",
    "\n",
    "for image_path in glob.glob(\"train-set\\*.png\"):\n",
    "    #image=im.imread(image_path)\n",
    "    imag=Image.open(image_path)\n",
    "    imag=imag.resize((64,64),Image.ANTIALIAS)    \n",
    "    trd_list.append(np.asarray(imag))\n",
    "    fname=image_path.split('\\\\')\n",
    "    trl_list.append(trlbl.get_value(fname[1],col='label'))        \n",
    "\n",
    "train_data_orig=np.asarray(trd_list)\n",
    "print(\"training image data shape\", train_data_orig.shape)\n",
    "train_label_orig=np.array(trl_list)\n",
    "train_label_orig=train_label_orig.reshape(train_label_orig.shape[0],-1)\n",
    "print(\"training data label shape\",train_label_orig.shape)"
   ]
  },
  {
   "cell_type": "markdown",
   "metadata": {},
   "source": [
    "### Read Validation data and Validation labels & Resizing into 64*64 size"
   ]
  },
  {
   "cell_type": "code",
   "execution_count": 3,
   "metadata": {},
   "outputs": [
    {
     "name": "stderr",
     "output_type": "stream",
     "text": [
      "C:\\Users\\sabarish\\Anaconda3\\envs\\tensorflow\\lib\\site-packages\\ipykernel_launcher.py:14: FutureWarning: get_value is deprecated and will be removed in a future release. Please use .at[] or .iat[] accessors instead\n",
      "  \n"
     ]
    },
    {
     "name": "stdout",
     "output_type": "stream",
     "text": [
      "validation image data shape (6262, 64, 64)\n",
      "validation data label shape (6262, 1)\n"
     ]
    }
   ],
   "source": [
    "# validation data\n",
    "vd_list=[]\n",
    "vl_list=[]\n",
    "\n",
    "vlbl=pd.read_csv('vali.txt',index_col=0,delimiter=' ',header=None)\n",
    "vlbl.columns=['label']\n",
    "\n",
    "for image_path in glob.glob(\"vali-set\\*.png\"):\n",
    "    imag=Image.open(image_path)\n",
    "    imag=imag.resize((64,64),Image.ANTIALIAS)\n",
    "    vd_list.append(np.asarray(imag))\n",
    "    fname=image_path.split('\\\\')\n",
    "    #print(fname)\n",
    "    vl_list.append(vlbl.get_value(fname[1],col='label'))\n",
    "\n",
    "vali_data_orig=np.array(vd_list)\n",
    "print(\"validation image data shape\",vali_data_orig.shape)\n",
    "vali_label_orig=np.array(vl_list)\n",
    "vali_label_orig=vali_label_orig.reshape(vali_label_orig.shape[0],-1)\n",
    "print(\"validation data label shape\",vali_label_orig.shape)"
   ]
  },
  {
   "cell_type": "markdown",
   "metadata": {},
   "source": [
    "#### Sample Image"
   ]
  },
  {
   "cell_type": "code",
   "execution_count": 4,
   "metadata": {},
   "outputs": [
    {
     "name": "stdout",
     "output_type": "stream",
     "text": [
      "y = 0\n"
     ]
    },
    {
     "data": {
      "image/png": "[encoded data removed]",
      "text/plain": [
       "<Figure size 432x288 with 1 Axes>"
      ]
     },
     "metadata": {},
     "output_type": "display_data"
    }
   ],
   "source": [
    "# Example of a picture\n",
    "index = 6\n",
    "#train_label_orig=train_label_orig.T\n",
    "plt.imshow(train_data_orig[index])\n",
    "print (\"y = \" + str(np.squeeze(train_label_orig[index,: ])))"
   ]
  },
  {
   "cell_type": "markdown",
   "metadata": {},
   "source": [
    "### Data Scaling & converting into Tensors"
   ]
  },
  {
   "cell_type": "code",
   "execution_count": 5,
   "metadata": {},
   "outputs": [
    {
     "name": "stdout",
     "output_type": "stream",
     "text": [
      "X_train shape: (37882, 64, 64, 1)\n",
      "Y_train shape: (37882, 62)\n",
      "X_test shape: (6262, 64, 64, 1)\n",
      "Y_test shape: (6262, 62)\n"
     ]
    }
   ],
   "source": [
    "train_data = train_data_orig/255.\n",
    "vali_data = vali_data_orig/255.\n",
    "train_data=train_data.reshape(train_data.shape[0],train_data.shape[1],train_data.shape[2],-1)\n",
    "vali_data=vali_data.reshape(vali_data.shape[0],vali_data.shape[1],vali_data.shape[2],-1)\n",
    "\n",
    "train_label=utils.to_categorical(train_label_orig, 62)\n",
    "vali_label=utils.to_categorical(vali_label_orig, 62)\n",
    "\n",
    "print (\"X_train shape: \" + str(train_data.shape))\n",
    "print (\"Y_train shape: \" + str(train_label.shape))\n",
    "print (\"X_test shape: \" + str(vali_data.shape))\n",
    "print (\"Y_test shape: \" + str(vali_label.shape))\n"
   ]
  },
  {
   "cell_type": "code",
   "execution_count": 6,
   "metadata": {},
   "outputs": [],
   "source": [
    "# Setting Parameters\n",
    "\n",
    "input_shape=(64, 64, 1)\n",
    "num_classes=62\n",
    "batch_size = 128\n",
    "epochs = 20"
   ]
  },
  {
   "cell_type": "markdown",
   "metadata": {},
   "source": [
    "### Model Definition \n",
    "###### Relu Activation\n",
    "###### BatchNormalization (axis=3 (along Filters))\n",
    "###### MaxPooling(size = 2x2)\n",
    "###### +\n",
    "###### Conv2D (16 Filters, kernel_size = 3*3, stride 1*1 )\n",
    "###### Relu Activation\n",
    "###### BatchNormalization (axis=3 (along Filters))\n",
    "###### MaxPooling(size = 2x2)\n",
    "###### +\n",
    "###### Conv2D (32 Filters, kernel_size = 3*3, stride 1*1 )\n",
    "###### Relu Activation\n",
    "###### BatchNormalization (axis=3 (along Filters))\n",
    "###### +\n",
    "###### Conv2D (32 Filters, kernel_size = 3*3, stride 1*1 )\n",
    "###### Relu Activation\n",
    "###### +\n",
    "###### Flatten Layer\n",
    "###### +\n",
    "###### Dense Layer(units=512)\n",
    "###### Relu Activation\n",
    "###### +\n",
    "###### Dropout(0.25)\n",
    "###### +\n",
    "###### Dense Layer(units=256)\n",
    "###### Relu Activation\n",
    "###### +\n",
    "###### Dense Layer(units=128)\n",
    "###### Relu Activation\n",
    "###### +\n",
    "###### Output Dense Layer(units=62  (same as no of classes))\n",
    "###### Softmax Activation"
   ]
  },
  {
   "cell_type": "code",
   "execution_count": 7,
   "metadata": {},
   "outputs": [],
   "source": [
    "model = models.Sequential()\n",
    "model.add(layers.Conv2D(16, kernel_size=(3, 3),\n",
    "                 activation='relu',data_format='channels_last',input_shape=input_shape))\n",
    "layers.BatchNormalization(axis=3)\n",
    "model.add(layers.MaxPooling2D(pool_size=(2, 2)))\n",
    "\n",
    "model.add(layers.Conv2D(16, (3, 3), activation='relu'))\n",
    "layers.BatchNormalization(axis=3)\n",
    "model.add(layers.MaxPooling2D(pool_size=(2, 2)))\n",
    "\n",
    "model.add(layers.Conv2D(32, (3, 3), activation='relu'))\n",
    "layers.BatchNormalization(axis=3)\n",
    "model.add(layers.Conv2D(32, (1, 1), activation='relu'))\n",
    "\n",
    "model.add(layers.Flatten())\n",
    "model.add(layers.Dense(512, activation='relu'))\n",
    "model.add(layers.Dropout(0.25))\n",
    "model.add(layers.Dense(256, activation='relu'))\n",
    "model.add(layers.Dense(128, activation='relu'))\n",
    "model.add(layers.Dense(units=62, activation='softmax'))"
   ]
  },
  {
   "cell_type": "code",
   "execution_count": 8,
   "metadata": {},
   "outputs": [],
   "source": [
    "model.compile(loss='categorical_crossentropy',\n",
    "              optimizer='adam',\n",
    "              metrics=['accuracy'])"
   ]
  },
  {
   "cell_type": "code",
   "execution_count": 9,
   "metadata": {},
   "outputs": [
    {
     "name": "stdout",
     "output_type": "stream",
     "text": [
      "_________________________________________________________________\n",
      "Layer (type)                 Output Shape              Param #   \n",
      "=================================================================\n",
      "conv2d_1 (Conv2D)            (None, 62, 62, 16)        160       \n",
      "_________________________________________________________________\n",
      "max_pooling2d_1 (MaxPooling2 (None, 31, 31, 16)        0         \n",
      "_________________________________________________________________\n",
      "conv2d_2 (Conv2D)            (None, 29, 29, 16)        2320      \n",
      "_________________________________________________________________\n",
      "max_pooling2d_2 (MaxPooling2 (None, 14, 14, 16)        0         \n",
      "_________________________________________________________________\n",
      "conv2d_3 (Conv2D)            (None, 12, 12, 32)        4640      \n",
      "_________________________________________________________________\n",
      "conv2d_4 (Conv2D)            (None, 12, 12, 32)        1056      \n",
      "_________________________________________________________________\n",
      "flatten_1 (Flatten)          (None, 4608)              0         \n",
      "_________________________________________________________________\n",
      "dense_1 (Dense)              (None, 512)               2359808   \n",
      "_________________________________________________________________\n",
      "dropout_1 (Dropout)          (None, 512)               0         \n",
      "_________________________________________________________________\n",
      "dense_2 (Dense)              (None, 256)               131328    \n",
      "_________________________________________________________________\n",
      "dense_3 (Dense)              (None, 128)               32896     \n",
      "_________________________________________________________________\n",
      "dense_4 (Dense)              (None, 62)                7998      \n",
      "=================================================================\n",
      "Total params: 2,540,206.0\n",
      "Trainable params: 2,540,206.0\n",
      "Non-trainable params: 0.0\n",
      "_________________________________________________________________\n"
     ]
    }
   ],
   "source": [
    "model.summary()"
   ]
  },
  {
   "cell_type": "code",
   "execution_count": 12,
   "metadata": {},
   "outputs": [
    {
     "name": "stdout",
     "output_type": "stream",
     "text": [
      "Epoch 1/1\n",
      "295/295 [==============================] - 185s - loss: 1.3025 - acc: 0.5928 - val_loss: 0.7701 - val_acc: 0.7440\n"
     ]
    },
    {
     "data": {
      "text/plain": [
       "<tensorflow.contrib.keras.python.keras.callbacks.History at 0x23552493be0>"
      ]
     },
     "execution_count": 12,
     "metadata": {},
     "output_type": "execute_result"
    }
   ],
   "source": [
    "#Using ImageGenerator\n",
    "\n",
    "#preprocessing.image import ImageDataGenerator\n",
    "from tensorflow.contrib.keras import preprocessing\n",
    "\n",
    "gen = preprocessing.image.ImageDataGenerator(rotation_range=20, width_shift_range=0.2,height_shift_range=0.2)\n",
    "\n",
    "test_gen = preprocessing.image.ImageDataGenerator()\n",
    "\n",
    "train_generator = gen.flow(train_data, train_label, batch_size=batch_size)\n",
    "test_generator = test_gen.flow(vali_data, vali_label, batch_size=batch_size)\n",
    "\n",
    "\n",
    "model.fit_generator(train_generator, steps_per_epoch=37882//128, epochs=50, \n",
    "                    validation_data=test_generator, validation_steps=6262//128)"
   ]
  },
  {
   "cell_type": "markdown",
   "metadata": {},
   "source": [
    "### Fit the Mode on Training Data"
   ]
  },
  {
   "cell_type": "markdown",
   "metadata": {},
   "source": [
    "### Accuracy on Validation Data"
   ]
  },
  {
   "cell_type": "code",
   "execution_count": 13,
   "metadata": {},
   "outputs": [
    {
     "name": "stdout",
     "output_type": "stream",
     "text": [
      "Test loss: 0.768343505426\n",
      "Test accuracy: 0.744171191294\n"
     ]
    }
   ],
   "source": [
    "score = model.evaluate(vali_data, vali_label, verbose=0)\n",
    "print('Test loss:', score[0])\n",
    "print('Test accuracy:', score[1])"
   ]
  },
  {
   "cell_type": "code",
   "execution_count": 14,
   "metadata": {},
   "outputs": [
    {
     "name": "stdout",
     "output_type": "stream",
     "text": [
      "test image data shape (18848, 64, 64)\n",
      "image name list shape (18848,)\n",
      "test_data shape: (18848, 64, 64, 1)\n"
     ]
    }
   ],
   "source": [
    "# Read Test Data and convert into 64*64 shape \n",
    "test_data=[]\n",
    "image_name=[]\n",
    "\n",
    "for image_path in glob.glob(\"test_set\\*.png\"):\n",
    "    imag=Image.open(image_path)\n",
    "    imag=imag.resize((64,64),Image.ANTIALIAS)\n",
    "    test_data.append(np.asarray(imag))\n",
    "    fname=image_path.split('\\\\')    \n",
    "    image_name.append(fname[1])\n",
    "\n",
    "test_data_orig=np.array(test_data)\n",
    "print(\"test image data shape\",test_data_orig.shape)\n",
    "image_name_orig=np.array(image_name)\n",
    "print(\"image name list shape\",image_name_orig.shape)\n",
    "\n",
    "test_data = test_data_orig/255.\n",
    "test_data=test_data.reshape(test_data.shape[0],test_data.shape[1],test_data.shape[2],-1)\n",
    "print (\"test_data shape: \" + str(test_data.shape))"
   ]
  },
  {
   "cell_type": "markdown",
   "metadata": {},
   "source": [
    "### Predictions on Test Data"
   ]
  },
  {
   "cell_type": "code",
   "execution_count": 15,
   "metadata": {},
   "outputs": [
    {
     "name": "stdout",
     "output_type": "stream",
     "text": [
      "18848/18848 [==============================] - 35s    \n"
     ]
    }
   ],
   "source": [
    "predictions = model.predict_classes(test_data)\n",
    "\n",
    "predictions = list(predictions)\n",
    "actuals = list(vali_label)\n",
    "\n",
    "#sub = pd.DataFrame({'Image_name':image_name_orig,'Predictions': predictions})\n",
    "sub = pd.DataFrame([image_name_orig,predictions])\n",
    "sub=sub.T\n",
    "sub.to_csv('./test.txt', index=False,header=False,sep=' ')"
   ]
  },
  {
   "cell_type": "code",
   "execution_count": null,
   "metadata": {},
   "outputs": [],
   "source": []
  }
 ],
 "metadata": {
  "kernelspec": {
   "display_name": "Python 3",
   "language": "python",
   "name": "python3"
  },
  "language_info": {
   "codemirror_mode": {
    "name": "ipython",
    "version": 3
   },
   "file_extension": ".py",
   "mimetype": "text/x-python",
   "name": "python",
   "nbconvert_exporter": "python",
   "pygments_lexer": "ipython3",
   "version": "3.6.2"
  }
 },
 "nbformat": 4,
 "nbformat_minor": 2
}
