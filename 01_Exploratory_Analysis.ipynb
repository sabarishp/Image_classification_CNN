{
 "cells": [
  {
   "cell_type": "markdown",
   "metadata": {},
   "source": [
    "### Import Required Lbraries"
   ]
  },
  {
   "cell_type": "code",
   "execution_count": 1,
   "metadata": {},
   "outputs": [],
   "source": [
    "import pandas as pd\n",
    "import glob\n",
    "from PIL import Image\n",
    "import numpy as np\n",
    "import matplotlib.pyplot as plt\n"
   ]
  },
  {
   "cell_type": "markdown",
   "metadata": {},
   "source": [
    "### Read training data"
   ]
  },
  {
   "cell_type": "code",
   "execution_count": 2,
   "metadata": {},
   "outputs": [
    {
     "name": "stderr",
     "output_type": "stream",
     "text": [
      "C:\\Users\\sabarish\\Anaconda3\\envs\\tensorflow\\lib\\site-packages\\ipykernel_launcher.py:14: FutureWarning: get_value is deprecated and will be removed in a future release. Please use .at[] or .iat[] accessors instead\n",
      "  \n"
     ]
    },
    {
     "name": "stdout",
     "output_type": "stream",
     "text": [
      "(37882, 32, 32)\n",
      "(37882, 1)\n"
     ]
    }
   ],
   "source": [
    "#set training data and training labels\n",
    "trd_list=[]\n",
    "trl_list=[]\n",
    "\n",
    "trlbl=pd.read_csv('train.txt',index_col=0,delimiter=' ',header=None)\n",
    "trlbl.columns=['label']\n",
    "\n",
    "for image_path in glob.glob(\"train-set\\*.png\"):\n",
    "    #image=im.imread(image_path)\n",
    "    imag=Image.open(image_path)\n",
    "    imag=imag.resize((32,32),Image.ANTIALIAS)    \n",
    "    trd_list.append(np.asarray(imag))\n",
    "    fname=image_path.split('\\\\')\n",
    "    trl_list.append(trlbl.get_value(fname[1],col='label'))        \n",
    "\n",
    "train_data_orig=np.asarray(trd_list)\n",
    "print(train_data_orig.shape)\n",
    "train_label_orig=np.array(trl_list)\n",
    "train_label_orig=train_label_orig.reshape(train_label_orig.shape[0],-1)\n",
    "print(train_label_orig.shape)\n",
    "\n",
    "#train_label_orig=train_label_orig.T"
   ]
  },
  {
   "cell_type": "code",
   "execution_count": 3,
   "metadata": {},
   "outputs": [
    {
     "name": "stdout",
     "output_type": "stream",
     "text": [
      "y = 0\n"
     ]
    },
    {
     "data": {
      "image/png": "[encoded data removed]",
      "text/plain": [
       "<Figure size 432x288 with 1 Axes>"
      ]
     },
     "metadata": {},
     "output_type": "display_data"
    }
   ],
   "source": [
    "# Example of a picture\n",
    "index = 3\n",
    "plt.imshow(train_data_orig[index])\n",
    "print (\"y = \" + str(np.squeeze(train_label_orig[index])))"
   ]
  },
  {
   "cell_type": "markdown",
   "metadata": {},
   "source": [
    "### Read Validation data"
   ]
  },
  {
   "cell_type": "code",
   "execution_count": 4,
   "metadata": {},
   "outputs": [
    {
     "name": "stderr",
     "output_type": "stream",
     "text": [
      "C:\\Users\\sabarish\\Anaconda3\\envs\\tensorflow\\lib\\site-packages\\ipykernel_launcher.py:14: FutureWarning: get_value is deprecated and will be removed in a future release. Please use .at[] or .iat[] accessors instead\n",
      "  \n"
     ]
    },
    {
     "name": "stdout",
     "output_type": "stream",
     "text": [
      "(6262, 32, 32)\n",
      "(6262, 1)\n"
     ]
    }
   ],
   "source": [
    "#read validation data\n",
    "vd_list=[]\n",
    "vl_list=[]\n",
    "\n",
    "vlbl=pd.read_csv('vali.txt',index_col=0,delimiter=' ',header=None)\n",
    "vlbl.columns=['label']\n",
    "\n",
    "for image_path in glob.glob(\"vali-set\\*.png\"):\n",
    "    imag=Image.open(image_path)\n",
    "    imag=imag.resize((32,32),Image.ANTIALIAS)\n",
    "    vd_list.append(np.asarray(imag))\n",
    "    fname=image_path.split('\\\\')\n",
    "    #print(fname)\n",
    "    vl_list.append(vlbl.get_value(fname[1],col='label'))\n",
    "\n",
    "vali_data_orig=np.array(vd_list)\n",
    "print(vali_data_orig.shape)\n",
    "vali_label_orig=np.array(vl_list)\n",
    "vali_label_orig=vali_label_orig.reshape(vali_label_orig.shape[0],-1)\n",
    "print(vali_label_orig.shape)\n",
    "#vali_label_orig=vali_label_orig.T\n"
   ]
  },
  {
   "cell_type": "markdown",
   "metadata": {},
   "source": [
    "### Exploratory Analysis to understand the data"
   ]
  },
  {
   "cell_type": "code",
   "execution_count": 5,
   "metadata": {},
   "outputs": [
    {
     "data": {
      "text/plain": [
       "array([ 0,  1,  2,  3,  4,  5,  6,  7,  8,  9, 10, 11, 12, 13, 14, 15, 16,\n",
       "       17, 18, 19, 20, 21, 22, 23, 24, 25, 26, 27, 28, 29, 30, 31, 32, 33,\n",
       "       34, 35, 36, 37, 38, 39, 40, 41, 42, 43, 44, 45, 46, 47, 48, 49, 50,\n",
       "       51, 52, 53, 54, 55, 56, 57, 58, 59, 60, 61], dtype=int64)"
      ]
     },
     "execution_count": 5,
     "metadata": {},
     "output_type": "execute_result"
    },
    {
     "data": {
      "image/png": "[encoded data removed]",
      "text/plain": [
       "<Figure size 432x288 with 1 Axes>"
      ]
     },
     "metadata": {},
     "output_type": "display_data"
    }
   ],
   "source": [
    "#Validation Data\n",
    "Vali_df = pd.DataFrame({'Class_Number':vl_list})\n",
    "ax = Vali_df.groupby('Class_Number').size().plot(title = 'Number of Images per class (Validation Data)', kind = 'line', y='count') #Count on each Label\n",
    "ax.set_xlabel(\"Class Number\")\n",
    "ax.set_ylabel(\"Count\")\n",
    "Vali_df.Class_Number.unique()  # List of unique Labels"
   ]
  },
  {
   "cell_type": "code",
   "execution_count": 6,
   "metadata": {},
   "outputs": [
    {
     "data": {
      "text/plain": [
       "array([ 0,  1,  2,  3,  4,  5,  6,  7,  8,  9, 10, 11, 12, 13, 14, 15, 16,\n",
       "       17, 18, 19, 20, 21, 22, 23, 24, 25, 26, 27, 28, 29, 30, 31, 32, 33,\n",
       "       34, 35, 36, 37, 38, 39, 40, 41, 42, 43, 44, 45, 46, 47, 48, 49, 50,\n",
       "       51, 52, 53, 54, 55, 56, 57, 58, 59, 60, 61], dtype=int64)"
      ]
     },
     "execution_count": 6,
     "metadata": {},
     "output_type": "execute_result"
    },
    {
     "data": {
      "image/png": "[encoded data removed]",
      "text/plain": [
       "<Figure size 432x288 with 1 Axes>"
      ]
     },
     "metadata": {},
     "output_type": "display_data"
    }
   ],
   "source": [
    "#Validation Data\n",
    "train_df = pd.DataFrame({'Class_Number':trl_list})\n",
    "ax = train_df.groupby('Class_Number').size().plot(title = 'Number of Images per class (Training Data)', kind = 'line', y='count') #Count on each Label\n",
    "ax.set_xlabel(\"Class Number\")\n",
    "ax.set_ylabel(\"Count\")\n",
    "train_df.Class_Number.unique()  # List of unique Labels"
   ]
  },
  {
   "cell_type": "markdown",
   "metadata": {},
   "source": [
    "### Reading Testing Data"
   ]
  },
  {
   "cell_type": "code",
   "execution_count": 7,
   "metadata": {},
   "outputs": [
    {
     "name": "stdout",
     "output_type": "stream",
     "text": [
      "test image data shape (18848, 64, 64)\n",
      "image name list shape (18848, 1)\n"
     ]
    }
   ],
   "source": [
    "# Test data\n",
    "test_data=[]\n",
    "image_name=[]\n",
    "\n",
    "for image_path in glob.glob(\"test_set\\*.png\"):\n",
    "    imag=Image.open(image_path)\n",
    "    imag=imag.resize((64,64),Image.ANTIALIAS)\n",
    "    test_data.append(np.asarray(imag))\n",
    "    fname=image_path.split('\\\\')    \n",
    "    image_name.append(fname[1])\n",
    "\n",
    "test_data_orig=np.array(test_data)\n",
    "print(\"test image data shape\",test_data_orig.shape)\n",
    "image_name_orig=pd.DataFrame(np.array(image_name))\n",
    "print(\"image name list shape\",image_name_orig.shape)"
   ]
  },
  {
   "cell_type": "markdown",
   "metadata": {},
   "source": [
    "### Convert all the files to H5 format to upload to google drive"
   ]
  },
  {
   "cell_type": "code",
   "execution_count": 8,
   "metadata": {},
   "outputs": [],
   "source": [
    "import numpy as np\n",
    "import h5py\n",
    "#a = np.random.random(size=(100,20))\n",
    "h5f = h5py.File('train_data.h5', 'w')\n",
    "h5f.create_dataset('dataset_1', data=train_data_orig)\n",
    "\n",
    "h5f = h5py.File('train_label.h5', 'w')\n",
    "h5f.create_dataset('dataset_2', data=train_label_orig)\n",
    "\n",
    "h5f = h5py.File('vali_data.h5', 'w')\n",
    "h5f.create_dataset('dataset_3', data=vali_data_orig)\n",
    "\n",
    "h5f = h5py.File('vali_label.h5', 'w')\n",
    "h5f.create_dataset('dataset_4', data=vali_label_orig)\n",
    "\n",
    "h5f = h5py.File('test_data.h5', 'w')\n",
    "h5f.create_dataset('dataset_5', data=test_data_orig)\n",
    "\n",
    "# Save the Test Data Image names to a csv file\n",
    "image_name_orig.to_csv('image_name.csv')\n",
    "\n",
    "h5f.close()\n",
    "\n"
   ]
  }
 ],
 "metadata": {
  "kernelspec": {
   "display_name": "Python 3",
   "language": "python",
   "name": "python3"
  },
  "language_info": {
   "codemirror_mode": {
    "name": "ipython",
    "version": 3
   },
   "file_extension": ".py",
   "mimetype": "text/x-python",
   "name": "python",
   "nbconvert_exporter": "python",
   "pygments_lexer": "ipython3",
   "version": "3.6.2"
  }
 },
 "nbformat": 4,
 "nbformat_minor": 2
}
